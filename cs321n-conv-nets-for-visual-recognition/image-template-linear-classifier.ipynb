{
 "cells": [
  {
   "cell_type": "code",
   "execution_count": 29,
   "id": "bfbf05e7-0179-4d49-93bf-8237ea43fb83",
   "metadata": {},
   "outputs": [],
   "source": [
    "import torch, torch.nn as nn\n",
    "from torch.utils.data import Dataset, DataLoader\n",
    "import torch.nn.functional as F\n",
    "import torch.optim as optim\n",
    "\n",
    "\n",
    "import torchvision\n",
    "\n",
    "import matplotlib.pyplot as plt\n",
    "import numpy as np"
   ]
  },
  {
   "cell_type": "code",
   "execution_count": 3,
   "id": "7067e7e9-244c-48d4-9d99-45ef08c5747b",
   "metadata": {},
   "outputs": [],
   "source": [
    "!mkdir data"
   ]
  },
  {
   "cell_type": "code",
   "execution_count": 173,
   "id": "d674daba-a24a-444d-bb9f-08401934713b",
   "metadata": {},
   "outputs": [
    {
     "name": "stdout",
     "output_type": "stream",
     "text": [
      "Files already downloaded and verified\n"
     ]
    }
   ],
   "source": [
    "dataset_all = torchvision.datasets.CIFAR10(\n",
    "    root= \"./data\",\n",
    "    train=True, \n",
    "    download=True,\n",
    "    transform= torchvision.transforms.Compose([\n",
    "        torchvision.transforms.ToTensor()\n",
    "    ])\n",
    ")"
   ]
  },
  {
   "cell_type": "code",
   "execution_count": 174,
   "id": "d2790d2f-6199-486e-a8c7-47dd4a721b61",
   "metadata": {},
   "outputs": [],
   "source": [
    "dataset = torch.utils.data.Subset(dataset_all, range(1000))"
   ]
  },
  {
   "cell_type": "code",
   "execution_count": 128,
   "id": "63720bf7-40f0-4b3c-85e9-17a92ab990c5",
   "metadata": {},
   "outputs": [],
   "source": [
    "def plot_image(image: torch.Tensor):\n",
    "    plt.imshow(image.cpu().permute(1, 2, 0).numpy())"
   ]
  },
  {
   "cell_type": "code",
   "execution_count": 129,
   "id": "294bb0eb-3330-4766-8fcd-1d66f6172b1a",
   "metadata": {},
   "outputs": [
    {
     "data": {
      "image/png": "[encoded data removed]",
      "text/plain": [
       "<Figure size 640x480 with 1 Axes>"
      ]
     },
     "metadata": {},
     "output_type": "display_data"
    }
   ],
   "source": [
    "plot_image(dataset[1][0])"
   ]
  },
  {
   "cell_type": "code",
   "execution_count": 130,
   "id": "b6dd1951-37db-4496-99e7-a0a65ce1c869",
   "metadata": {},
   "outputs": [
    {
     "data": {
      "image/png": "[encoded data removed]",
      "text/plain": [
       "<Figure size 640x480 with 1 Axes>"
      ]
     },
     "metadata": {},
     "output_type": "display_data"
    }
   ],
   "source": [
    "plot_image(dataset[0][0])"
   ]
  },
  {
   "cell_type": "code",
   "execution_count": 131,
   "id": "0eaa8b20-997b-4764-a499-e497fa41bf17",
   "metadata": {},
   "outputs": [
    {
     "data": {
      "text/plain": [
       "<torch.utils.data.dataset.Subset at 0x714137653bd0>"
      ]
     },
     "execution_count": 131,
     "metadata": {},
     "output_type": "execute_result"
    }
   ],
   "source": [
    "dataset"
   ]
  },
  {
   "cell_type": "code",
   "execution_count": 132,
   "id": "ed6198a0-af7a-4bdd-a9eb-124065f4a3ca",
   "metadata": {},
   "outputs": [],
   "source": [
    "loader = DataLoader(\n",
    "    dataset,\n",
    "    batch_size=64,\n",
    "    shuffle=True\n",
    ")"
   ]
  },
  {
   "cell_type": "code",
   "execution_count": 133,
   "id": "92195168-6d84-4fa8-a1bf-42a09c891fec",
   "metadata": {},
   "outputs": [],
   "source": [
    "model = nn.Sequential(\n",
    "    nn.Flatten(start_dim=-3),\n",
    "    nn.Linear(3 * 32 * 32, 10)\n",
    ")"
   ]
  },
  {
   "cell_type": "code",
   "execution_count": 134,
   "id": "1798dfe6-9b99-458d-966b-960f10c4300e",
   "metadata": {},
   "outputs": [
    {
     "data": {
      "text/plain": [
       "Sequential(\n",
       "  (0): Flatten(start_dim=-3, end_dim=-1)\n",
       "  (1): Linear(in_features=3072, out_features=10, bias=True)\n",
       ")"
      ]
     },
     "execution_count": 134,
     "metadata": {},
     "output_type": "execute_result"
    }
   ],
   "source": [
    "model"
   ]
  },
  {
   "cell_type": "code",
   "execution_count": 135,
   "id": "23478aeb-78b2-4f19-9de4-cf95db560818",
   "metadata": {},
   "outputs": [
    {
     "data": {
      "text/plain": [
       "tensor([ 0.0328, -0.2161,  0.1281, -0.6331, -0.4467,  0.0707, -0.1672,  0.2789,\n",
       "         0.8912,  0.0807], grad_fn=<ViewBackward0>)"
      ]
     },
     "execution_count": 135,
     "metadata": {},
     "output_type": "execute_result"
    }
   ],
   "source": [
    "model(dataset[0][0])"
   ]
  },
  {
   "cell_type": "code",
   "execution_count": 136,
   "id": "dd9f75a3-0683-4794-889c-c5644d829c02",
   "metadata": {},
   "outputs": [],
   "source": [
    "opt = optim.Adam(model.parameters(), lr=0.001)"
   ]
  },
  {
   "cell_type": "code",
   "execution_count": 184,
   "id": "33dae5fd-1ddb-4b1c-b985-a5acb6afedc2",
   "metadata": {},
   "outputs": [
    {
     "name": "stdout",
     "output_type": "stream",
     "text": [
      "Loss = 0.44934024289250374\n",
      "Loss = 0.4241942260414362\n",
      "Loss = 0.4034339766949415\n",
      "Loss = 0.3933503348380327\n",
      "Loss = 0.37205789238214493\n",
      "Loss = 0.3624910656362772\n",
      "Loss = 0.34979219548404217\n",
      "Loss = 0.3446978610008955\n",
      "Loss = 0.319409791380167\n",
      "Loss = 0.3050269056111574\n"
     ]
    }
   ],
   "source": [
    "for _ in range(100):\n",
    "\n",
    "    total_loss = 0\n",
    "\n",
    "    for img, lbl in loader:\n",
    "\n",
    "        opt.zero_grad()\n",
    "\n",
    "        out = model(img)\n",
    "\n",
    "        loss = F.cross_entropy(out, lbl)\n",
    "\n",
    "        loss.backward()\n",
    "\n",
    "        total_loss += loss.item()\n",
    "\n",
    "        opt.step()\n",
    "\n",
    "    if _ % 10 == 0: print(f\"Loss = {total_loss/len(loader)}\")"
   ]
  },
  {
   "cell_type": "code",
   "execution_count": 191,
   "id": "737f68c6-dbad-4114-baf4-9fb98122a89e",
   "metadata": {},
   "outputs": [],
   "source": [
    "image_weight = model[1].weight[1].reshape(3, 32, 32).detach()\n",
    "image_weight = (image_weight - image_weight.min() /(-image_weight.min() + image_weight.max()))"
   ]
  },
  {
   "cell_type": "code",
   "execution_count": 192,
   "id": "4cd9aa4e-9682-482b-ae0b-1e882fd47ee0",
   "metadata": {},
   "outputs": [
    {
     "data": {
      "text/plain": [
       "tensor([[[0.6595, 0.6309, 0.7084,  ..., 0.5961, 0.5318, 0.6058],\n",
       "         [0.5077, 0.5722, 0.6775,  ..., 0.5810, 0.5345, 0.5352],\n",
       "         [0.3181, 0.5479, 0.5762,  ..., 0.5538, 0.5865, 0.5094],\n",
       "         ...,\n",
       "         [0.6739, 0.7380, 0.5732,  ..., 0.5608, 0.5833, 0.3638],\n",
       "         [0.5951, 0.5446, 0.4553,  ..., 0.5031, 0.5277, 0.3173],\n",
       "         [0.5092, 0.4177, 0.3627,  ..., 0.3592, 0.4658, 0.4207]],\n",
       "\n",
       "        [[0.5420, 0.5420, 0.6340,  ..., 0.5937, 0.5255, 0.6067],\n",
       "         [0.4149, 0.4753, 0.5644,  ..., 0.6015, 0.5446, 0.5258],\n",
       "         [0.2370, 0.4616, 0.5101,  ..., 0.5966, 0.6308, 0.5579],\n",
       "         ...,\n",
       "         [0.6986, 0.7710, 0.6532,  ..., 0.6212, 0.6292, 0.4345],\n",
       "         [0.5713, 0.5561, 0.5206,  ..., 0.5126, 0.5380, 0.3560],\n",
       "         [0.5212, 0.4316, 0.3879,  ..., 0.3859, 0.5079, 0.4393]],\n",
       "\n",
       "        [[0.4972, 0.5723, 0.6598,  ..., 0.5531, 0.5039, 0.5830],\n",
       "         [0.3725, 0.4988, 0.5931,  ..., 0.5259, 0.5320, 0.5180],\n",
       "         [0.1762, 0.4462, 0.4730,  ..., 0.5985, 0.6163, 0.5510],\n",
       "         ...,\n",
       "         [0.5890, 0.7559, 0.6131,  ..., 0.5465, 0.5653, 0.3208],\n",
       "         [0.5354, 0.5694, 0.4804,  ..., 0.4403, 0.4899, 0.2714],\n",
       "         [0.4499, 0.3968, 0.3284,  ..., 0.2536, 0.4066, 0.3303]]])"
      ]
     },
     "execution_count": 192,
     "metadata": {},
     "output_type": "execute_result"
    }
   ],
   "source": [
    "image_weight"
   ]
  },
  {
   "cell_type": "code",
   "execution_count": 193,
   "id": "4cf89133-5019-45ab-847b-fccdc09c4e57",
   "metadata": {},
   "outputs": [
    {
     "data": {
      "image/png": "[encoded data removed]",
      "text/plain": [
       "<Figure size 640x480 with 1 Axes>"
      ]
     },
     "metadata": {},
     "output_type": "display_data"
    }
   ],
   "source": [
    "plot_image(image_weight)"
   ]
  },
  {
   "cell_type": "code",
   "execution_count": 194,
   "id": "f3c343d2-c52d-404a-9445-3105af293267",
   "metadata": {},
   "outputs": [
    {
     "data": {
      "text/plain": [
       "['airplane',\n",
       " 'automobile',\n",
       " 'bird',\n",
       " 'cat',\n",
       " 'deer',\n",
       " 'dog',\n",
       " 'frog',\n",
       " 'horse',\n",
       " 'ship',\n",
       " 'truck']"
      ]
     },
     "execution_count": 194,
     "metadata": {},
     "output_type": "execute_result"
    }
   ],
   "source": [
    "dataset_all.classes"
   ]
  },
  {
   "cell_type": "code",
   "execution_count": null,
   "id": "b0994f8e-35bc-4eaa-bd8a-f43e4abe2175",
   "metadata": {},
   "outputs": [],
   "source": []
  }
 ],
 "metadata": {
  "kernelspec": {
   "display_name": "Python (ml-env)",
   "language": "python",
   "name": "ml-env"
  },
  "language_info": {
   "codemirror_mode": {
    "name": "ipython",
    "version": 3
   },
   "file_extension": ".py",
   "mimetype": "text/x-python",
   "name": "python",
   "nbconvert_exporter": "python",
   "pygments_lexer": "ipython3",
   "version": "3.11.6"
  }
 },
 "nbformat": 4,
 "nbformat_minor": 5
}
